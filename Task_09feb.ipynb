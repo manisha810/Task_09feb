{
 "cells": [
  {
   "cell_type": "markdown",
   "id": "30b90e2a-e427-4f23-bda6-e80365f6a748",
   "metadata": {},
   "source": [
    "Q1, Create a vehicle class with an init method having instance variables as name_of_vehicle, max_speed\n",
    "and average_of_vehicle."
   ]
  },
  {
   "cell_type": "code",
   "execution_count": null,
   "id": "7fd7c93b-b76d-47bf-81be-5819ae71ba54",
   "metadata": {},
   "outputs": [],
   "source": [
    "class vehicle :\n",
    "    \n",
    "    def __init__(self, name_of_vehicle, max_speed, average_of_vehicle):\n",
    "        self.name_of_vehicle = name_of_vehicle\n",
    "        self.max_speed = max_speed\n",
    "        self.average_of_vehicle = average_of_vehicle\n",
    "        \n",
    "    def vehicle_details(self):\n",
    "        print(self.name_of_vehicle,self.max_speed,self.average_of_vehicle)\n",
    "        \n",
    "vechl = vehicle('Audi', 20,100) \n",
    "vechl.vehicle_details()"
   ]
  },
  {
   "cell_type": "raw",
   "id": "bf754ca4-62dc-4cc9-8e79-5f5f3d3a04de",
   "metadata": {},
   "source": [
    "Q2. Create a child class car from the vehicle class created in Que 1, which will inherit the vehicle class.\n",
    "Create a method named seating_capacity which takes capacity as an argument and returns the name of\n",
    "the vehicle and its seating capacity."
   ]
  },
  {
   "cell_type": "code",
   "execution_count": null,
   "id": "0c8472e9-cdd8-4a89-85ea-0b8bbae0431c",
   "metadata": {},
   "outputs": [],
   "source": [
    "class vehicle:\n",
    "    def __init__(self,name_of_vehicle,max_speed, average_of_vehicle):\n",
    "        self.name_of_vehicle = name_of_vehicle\n",
    "        self.max_speed = max_speed\n",
    "        self.average_of_vehicle = average_of_vehicle\n",
    "class child_vehicle(vehicle):\n",
    "    \n",
    "    def result_child_vehicle(self,seating_capacity):\n",
    "        return self.name_of_vehicle,seating_capacity\n",
    "\n",
    "child_obj = child_vehicle('Toyota', 120,70)\n",
    "\n",
    "print(child_obj.result_child_vehicle(8))"
   ]
  },
  {
   "cell_type": "markdown",
   "id": "32d85db3-d25b-497f-a04a-fc2c03111ba2",
   "metadata": {},
   "source": [
    "Q3. What is multiple inheritance? Write a python code to demonstrate multiple inheritance."
   ]
  },
  {
   "cell_type": "markdown",
   "id": "5ff0eb7b-577d-4948-9d18-1fb1cb88001b",
   "metadata": {},
   "source": [
    "Multiple Inheritance is a type of inheritance in which one class can inherit properties(attributes and methods) of more than one parent classes."
   ]
  },
  {
   "cell_type": "code",
   "execution_count": null,
   "id": "f021d80f-a312-43db-a1ed-9df008334166",
   "metadata": {},
   "outputs": [],
   "source": [
    "class Parent1:\n",
    "    def display1(self):\n",
    "        print(\"In class Parent1\")\n",
    "class Parent2:\n",
    "    def display2(self):\n",
    "        print(\"In class Parent2\")\n",
    "class Child(Parent1, Parent2):\n",
    "    pass\n",
    "obj = Child()\n",
    "obj.display1()\n",
    "obj.display2()"
   ]
  },
  {
   "cell_type": "markdown",
   "id": "139c49d5-1840-4d55-9442-7ab74b8c3829",
   "metadata": {},
   "source": [
    "Q4. What are getter and setter in python? Create a class and create a getter and a setter method in this\n",
    "class."
   ]
  },
  {
   "cell_type": "markdown",
   "id": "3fccfe5f-c03a-4fd2-9281-09dce0a4553e",
   "metadata": {},
   "source": [
    "Getters are the methods that are used in Object-Oriented Programming (OOPS) to access a class's private attributes. \n",
    "\n",
    "The setter is a method that is used to set the property's value. It is very useful in object-oriented programming to set the value of private attributes in a class."
   ]
  },
  {
   "cell_type": "code",
   "execution_count": null,
   "id": "67a828fd-dce7-47f8-9a0e-57b5da2285bc",
   "metadata": {},
   "outputs": [],
   "source": [
    "class age:\n",
    "    def __init__(self, age = 0):\n",
    "         self._age = age\n",
    "      \n",
    "    # getter method\n",
    "    def get_age(self):\n",
    "        return self._age\n",
    "      \n",
    "    # setter method\n",
    "    def set_age(self, x):\n",
    "        self._age = x\n",
    "raj = age()\n",
    "raj.set_age(21)\n",
    "\n",
    "print(raj.get_age()) \n",
    "\n",
    "print(raj._age)"
   ]
  },
  {
   "cell_type": "markdown",
   "id": "de7e090f-dd56-4df8-97db-0544f22a86d2",
   "metadata": {},
   "source": [
    "Q5.What is method overriding in python? Write a python code to demonstrate method overriding."
   ]
  },
  {
   "cell_type": "markdown",
   "id": "8024c1ee-e5ed-40a2-ad0b-095d490c1666",
   "metadata": {},
   "source": [
    "Method overriding is an ability of any object-oriented programming language that allows a subclass or child class to provide a specific implementation of a method that is already provided by one of its super-classes or parent classes."
   ]
  },
  {
   "cell_type": "code",
   "execution_count": null,
   "id": "f4538c1f-0975-405c-ad51-21bdd339c40f",
   "metadata": {},
   "outputs": [],
   "source": [
    "class Parent(): \n",
    "    \n",
    "    def display(self):\n",
    "        print(\"Inside Parent\")\n",
    "\n",
    "class Child(Parent): \n",
    "    \n",
    "    def show(self):\n",
    "        print(\"Inside Child\")\n",
    "    \n",
    "class GrandChild(Child): \n",
    "          \n",
    "    # Child's show method\n",
    "    def show(self):\n",
    "        print(\"Inside GrandChild\")         \n",
    "    \n",
    "# Driver code \n",
    "g = GrandChild()   \n",
    "g.show()\n",
    "g.display()"
   ]
  }
 ],
 "metadata": {
  "kernelspec": {
   "display_name": "Python 3 (ipykernel)",
   "language": "python",
   "name": "python3"
  },
  "language_info": {
   "codemirror_mode": {
    "name": "ipython",
    "version": 3
   },
   "file_extension": ".py",
   "mimetype": "text/x-python",
   "name": "python",
   "nbconvert_exporter": "python",
   "pygments_lexer": "ipython3",
   "version": "3.10.8"
  }
 },
 "nbformat": 4,
 "nbformat_minor": 5
}
